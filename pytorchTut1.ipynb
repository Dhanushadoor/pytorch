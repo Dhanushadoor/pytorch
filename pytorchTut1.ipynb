{
 "cells": [
  {
   "cell_type": "code",
   "execution_count": 12,
   "metadata": {},
   "outputs": [
    {
     "name": "stdout",
     "output_type": "stream",
     "text": [
      "tensor([10., 20.])\n"
     ]
    }
   ],
   "source": [
    "import torch\n",
    "\n",
    "a = torch.Tensor([10,20])\n",
    "print(a)"
   ]
  },
  {
   "cell_type": "code",
   "execution_count": 30,
   "metadata": {},
   "outputs": [
    {
     "data": {
      "text/plain": [
       "tensor([[0, 0, 0, 0, 0],\n",
       "        [0, 0, 0, 0, 0],\n",
       "        [0, 0, 0, 0, 0],\n",
       "        [0, 0, 0, 0, 0],\n",
       "        [0, 0, 0, 0, 0],\n",
       "        [0, 0, 0, 0, 0],\n",
       "        [0, 0, 0, 0, 0],\n",
       "        [0, 0, 0, 0, 0],\n",
       "        [0, 0, 0, 0, 0],\n",
       "        [0, 0, 0, 0, 0]])"
      ]
     },
     "execution_count": 30,
     "metadata": {},
     "output_type": "execute_result"
    }
   ],
   "source": [
    "a = torch.zeros([10,5],dtype=torch.long)\n",
    "a"
   ]
  },
  {
   "cell_type": "code",
   "execution_count": 22,
   "metadata": {},
   "outputs": [
    {
     "name": "stdout",
     "output_type": "stream",
     "text": [
      "torch.Size([10, 5])\n"
     ]
    }
   ],
   "source": [
    "print(a.shape)"
   ]
  },
  {
   "cell_type": "code",
   "execution_count": 15,
   "metadata": {},
   "outputs": [
    {
     "name": "stdout",
     "output_type": "stream",
     "text": [
      "tensor([[1.0806e-32, 1.9604e+31, 1.9519e-19, 7.1441e+31, 9.8617e+14, 7.0292e+28,\n",
      "         1.7035e+25, 5.0849e+31, 1.2708e+31, 7.7778e+31],\n",
      "        [5.4214e-11, 1.9506e-19, 7.1441e+31, 4.3372e+27, 6.8285e+22, 6.8635e+19,\n",
      "         4.6114e+24, 7.1463e+22, 2.8955e+32, 1.2710e+31],\n",
      "        [4.9650e+28, 1.2039e+30, 7.1538e+22, 7.1194e+28, 4.6114e+24, 7.5244e+28,\n",
      "         1.8471e+25, 1.2122e+25, 2.6417e+20, 2.9590e+21],\n",
      "        [4.7472e+27, 1.8470e+31, 1.1835e+33, 7.3986e+20, 4.6114e+24, 3.0820e+32,\n",
      "         2.8231e+23, 3.0607e+32, 1.8179e+31, 1.9519e-19],\n",
      "        [4.4377e+27, 1.9366e+31, 2.0194e-19, 1.1046e-32, 2.7370e+20, 1.8061e+28,\n",
      "         3.6002e+27, 8.8674e-04, 9.1192e-12, 1.9010e-19],\n",
      "        [1.9604e+31, 1.9519e-19, 7.1435e+31, 1.1576e+27, 5.4212e-11, 3.9572e-11,\n",
      "         7.5878e+31, 8.9666e-33, 1.3563e-19, 1.9432e-19],\n",
      "        [7.1833e+22, 6.8612e+22, 3.6002e+27, 8.8674e-04, 9.7917e-03, 1.9010e-19,\n",
      "         1.2414e+28, 1.2713e+31, 7.4412e+28, 1.6931e+22],\n",
      "        [2.0196e-19, 1.9432e-19, 4.8502e-11, 3.8235e+30, 8.9773e-33, 1.3563e-19,\n",
      "         3.0478e+32, 2.8884e+12, 7.5338e+28, 1.5769e-19],\n",
      "        [1.9432e-19, 4.8405e+30, 6.1215e-04, 4.6162e+24, 5.6025e+19, 1.3563e-19,\n",
      "         8.8959e-15, 1.8888e+31, 6.4639e-04, 6.8608e+22],\n",
      "        [2.7350e+20, 5.3728e+19, 7.3961e+20, 3.6002e+27, 8.8674e-04, 1.9010e-19,\n",
      "         4.8405e+30, 6.1215e-04, 4.6162e+24, 5.5737e+19]])\n"
     ]
    }
   ],
   "source": [
    "a= torch.empty([10,10])\n",
    "print(a)"
   ]
  },
  {
   "cell_type": "code",
   "execution_count": 31,
   "metadata": {},
   "outputs": [
    {
     "name": "stdout",
     "output_type": "stream",
     "text": [
      "tensor([[0.5985, 0.6468, 0.0673, 0.2631, 0.2754],\n",
      "        [0.7224, 0.8954, 0.0085, 0.6735, 0.2132],\n",
      "        [0.6779, 0.3475, 0.8468, 0.5221, 0.7031],\n",
      "        [0.7248, 0.1838, 0.8701, 0.4996, 0.6716],\n",
      "        [0.0596, 0.5126, 0.8477, 0.0274, 0.2809]])\n"
     ]
    }
   ],
   "source": [
    "a = torch.rand(5,5)\n",
    "print(a)"
   ]
  },
  {
   "cell_type": "code",
   "execution_count": 35,
   "metadata": {},
   "outputs": [],
   "source": [
    "a=a.view(1,25)"
   ]
  },
  {
   "cell_type": "code",
   "execution_count": 36,
   "metadata": {},
   "outputs": [
    {
     "data": {
      "text/plain": [
       "tensor([[0.5985, 0.6468, 0.0673, 0.2631, 0.2754, 0.7224, 0.8954, 0.0085, 0.6735,\n",
       "         0.2132, 0.6779, 0.3475, 0.8468, 0.5221, 0.7031, 0.7248, 0.1838, 0.8701,\n",
       "         0.4996, 0.6716, 0.0596, 0.5126, 0.8477, 0.0274, 0.2809]])"
      ]
     },
     "execution_count": 36,
     "metadata": {},
     "output_type": "execute_result"
    }
   ],
   "source": [
    "a"
   ]
  },
  {
   "cell_type": "code",
   "execution_count": null,
   "metadata": {},
   "outputs": [],
   "source": []
  }
 ],
 "metadata": {
  "kernelspec": {
   "display_name": "Python 3",
   "language": "python",
   "name": "python3"
  },
  "language_info": {
   "codemirror_mode": {
    "name": "ipython",
    "version": 3
   },
   "file_extension": ".py",
   "mimetype": "text/x-python",
   "name": "python",
   "nbconvert_exporter": "python",
   "pygments_lexer": "ipython3",
   "version": "3.7.3"
  }
 },
 "nbformat": 4,
 "nbformat_minor": 2
}
